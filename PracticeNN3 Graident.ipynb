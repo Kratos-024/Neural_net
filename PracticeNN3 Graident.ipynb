{
 "cells": [
  {
   "cell_type": "code",
   "execution_count": 102,
   "id": "e61fed84",
   "metadata": {},
   "outputs": [],
   "source": [
    "import numpy as np\n",
    "import pandas as pd"
   ]
  },
  {
   "cell_type": "code",
   "execution_count": 103,
   "id": "18f23594",
   "metadata": {},
   "outputs": [
    {
     "data": {
      "text/plain": [
       "array([[ 0.05782299,  0.01744158, -0.09542229]])"
      ]
     },
     "execution_count": 103,
     "metadata": {},
     "output_type": "execute_result"
    }
   ],
   "source": [
    "input = np.array([1,2,3])\n",
    "weights = np.random.randn(3, 3) * 0.01\n",
    "bias = np.zeros((1,3))\n",
    "\n",
    "output=np.dot(input,weights)+bias\n",
    "output"
   ]
  },
  {
   "cell_type": "markdown",
   "id": "86f58487",
   "metadata": {},
   "source": [
    "Activation function"
   ]
  },
  {
   "cell_type": "code",
   "execution_count": 104,
   "id": "7c51f936",
   "metadata": {},
   "outputs": [],
   "source": [
    "class ReluAct:\n",
    "    def __init__(self):\n",
    "        pass\n",
    "    def forward(self,inputs):\n",
    "         self.output=np.maximum(0,inputs)\n",
    "         return self.output"
   ]
  },
  {
   "cell_type": "code",
   "execution_count": 105,
   "id": "6c2ddb6c",
   "metadata": {},
   "outputs": [],
   "source": [
    "# input = np.array([1,2,3])\n",
    "# weights = np.random.randn(3, 3) * 0.01\n",
    "# bias = np.zeros((1,3))\n",
    "\n",
    "# output=np.dot(input,weights)+bias\n",
    "# print(output)\n",
    "# output = ReLu(output)\n",
    "# output"
   ]
  },
  {
   "cell_type": "code",
   "execution_count": 106,
   "id": "366010d8",
   "metadata": {},
   "outputs": [],
   "source": [
    "# input = np.array([[1,2,3],[3,4,5],[6,8,1]]) # 3x3\n",
    "# weights = np.random.randn(3, 3) * 0.01 # 3x3\n",
    "# bias = np.zeros((1,3))\n",
    "\n",
    "# output=np.dot(input,weights)+bias\n",
    "# print(output)\n",
    "# output = ReLu(output)\n",
    "# output"
   ]
  },
  {
   "cell_type": "markdown",
   "id": "851ae984",
   "metadata": {},
   "source": [
    "# Batch inputs"
   ]
  },
  {
   "cell_type": "code",
   "execution_count": 107,
   "id": "00df55d9",
   "metadata": {},
   "outputs": [],
   "source": [
    "# input = np.array([[1,2,3],[3,4,5],[6,8,1]]) # 3x3\n",
    "# weights = np.random.randn(3, 3) * 0.01 # 3x3\n",
    "# bias = np.zeros((1,3))\n",
    "\n",
    "# output=np.dot(input,weights)+bias\n",
    "# print(output)\n",
    "# output = ReLu(output)\n",
    "# output"
   ]
  },
  {
   "cell_type": "markdown",
   "id": "276db529",
   "metadata": {},
   "source": [
    "# Multiple Layers"
   ]
  },
  {
   "cell_type": "code",
   "execution_count": 108,
   "id": "e095d1c2",
   "metadata": {},
   "outputs": [],
   "source": [
    "# input = np.array([[1,2,3],[3,4,5],[6,8,1]]) # 3x3\n",
    "# # Layer 1\n",
    "# weights1 = np.random.randn(3, 3) * 0.01 # 3x3\n",
    "# bias1 = np.zeros((1,3))\n",
    "\n",
    "# # Layer 2\n",
    "# weights2 = np.random.randn(3, 3) * 0.01 # 3x3\n",
    "# bias2 = np.zeros((1,3))\n",
    "\n",
    "# layer1=np.dot(input,weights1)+bias1\n",
    "# layer1 = ReLu(layer1)\n",
    "# print(layer1)\n",
    "\n",
    "# layer2=np.dot(layer1,weights2)+bias2\n",
    "# output = ReLu(layer2)\n",
    "\n",
    "# print(output)\n"
   ]
  },
  {
   "cell_type": "markdown",
   "id": "8998c434",
   "metadata": {},
   "source": [
    "# Class of NN"
   ]
  },
  {
   "cell_type": "code",
   "execution_count": 109,
   "id": "a98afd6b",
   "metadata": {},
   "outputs": [],
   "source": [
    "class Dense:\n",
    "    def __init__(self,inputs,neurons):\n",
    "        self.weights=0.01*np.random.randn(inputs,neurons)\n",
    "        self.bias=np.zeros((1,neurons))\n",
    "    def forward(self,input):\n",
    "        self.output = np.dot(input,self.weights)+self.bias\n",
    "        return self.output\n"
   ]
  },
  {
   "cell_type": "markdown",
   "id": "75551aa9",
   "metadata": {},
   "source": [
    "# Softmax"
   ]
  },
  {
   "cell_type": "code",
   "execution_count": 110,
   "id": "f9e09268",
   "metadata": {},
   "outputs": [],
   "source": [
    "class Softmax:\n",
    "    def __init__(self):\n",
    "        pass\n",
    "    def forward(self,input):\n",
    "        max_row = np.max(input,axis=1,keepdims=True)\n",
    "        normalize_row = input-max_row\n",
    "        expo_max = np.sum(np.exp(normalize_row),axis=1,keepdims=True)\n",
    "        expo_values = np.exp(normalize_row)/expo_max\n",
    "        self.output = expo_values\n",
    "        return self.output\n",
    "\n",
    "\n",
    "        "
   ]
  },
  {
   "cell_type": "markdown",
   "id": "4b0f6c47",
   "metadata": {},
   "source": [
    "# Cross Entropy Loss"
   ]
  },
  {
   "cell_type": "code",
   "execution_count": 111,
   "id": "7cf746ff",
   "metadata": {},
   "outputs": [],
   "source": [
    "class Cross_entropyLoss:\n",
    "    def __init__(self):\n",
    "        pass\n",
    "    def forward(self, y_pred, y_true):\n",
    "        y_pred_clipped = np.clip(y_pred, 1e-12, 1.0)\n",
    "        sample_losses = -np.sum(y_true * np.log(y_pred_clipped), axis=1)\n",
    "       \n",
    "        self.output = np.mean(sample_losses)\n",
    "        return self.output\n"
   ]
  },
  {
   "cell_type": "code",
   "execution_count": 112,
   "id": "6c67c1aa",
   "metadata": {},
   "outputs": [],
   "source": [
    "y = np.array([\n",
    "    [1, 0, 0],  # sample 1 → class 0\n",
    "    [0, 1, 0],  # sample 2 → class 1\n",
    "    [0, 0, 1]   # sample 3 → class 2\n",
    "])\n"
   ]
  },
  {
   "cell_type": "code",
   "execution_count": 113,
   "id": "87508809",
   "metadata": {},
   "outputs": [
    {
     "data": {
      "text/plain": [
       "np.float64(11.510096075991235)"
      ]
     },
     "execution_count": 113,
     "metadata": {},
     "output_type": "execute_result"
    }
   ],
   "source": [
    "cs = Cross_entropyLoss()\n",
    "cs.forward(output,y)"
   ]
  },
  {
   "cell_type": "markdown",
   "id": "325d6ccc",
   "metadata": {},
   "source": [
    "# Dense Layer with Activation, Softmax, Loss function"
   ]
  },
  {
   "cell_type": "code",
   "execution_count": 114,
   "id": "24b5747f",
   "metadata": {},
   "outputs": [
    {
     "name": "stdout",
     "output_type": "stream",
     "text": [
      "1.080599626403692\n"
     ]
    }
   ],
   "source": [
    "input = np.array([[1,2,3],[3,4,5],[6,8,1]]) # 3x3\n",
    "# Layer 1\n",
    "weights1 = np.random.randn(3, 3) * 0.01 # 3x3\n",
    "bias1 = np.zeros((1,3))\n",
    "\n",
    "# Layer 2\n",
    "weights2 = np.random.randn(3, 3) * 0.01 # 3x3\n",
    "bias2 = np.zeros((1,3))\n",
    "\n",
    "layer1=np.dot(input,weights1)+bias1\n",
    "# layer1 = ReLu(layer1)\n",
    "\n",
    "\n",
    "actSoft = Softmax()\n",
    "actSoft.forward(layer1)\n",
    "\n",
    "lossFun = Cross_entropyLoss()\n",
    "lossFun.forward(actSoft.output,[[1,0,0],[0,1,0],[1,0,0]])\n",
    "\n",
    "\n",
    "\n",
    "print(lossFun.output)\n"
   ]
  },
  {
   "cell_type": "code",
   "execution_count": 115,
   "id": "c4ad0ddb",
   "metadata": {},
   "outputs": [
    {
     "name": "stdout",
     "output_type": "stream",
     "text": [
      "iter 000  loss 3111.340423  y 60.7794\n",
      "iter 010  loss 25.000000  y 0.0000\n",
      "iter 020  loss 25.000000  y 0.0000\n",
      "iter 030  loss 25.000000  y 0.0000\n",
      "iter 040  loss 25.000000  y 0.0000\n",
      "iter 050  loss 25.000000  y 0.0000\n",
      "iter 060  loss 25.000000  y 0.0000\n",
      "iter 070  loss 25.000000  y 0.0000\n",
      "iter 080  loss 25.000000  y 0.0000\n",
      "iter 090  loss 25.000000  y 0.0000\n"
     ]
    }
   ],
   "source": [
    "import numpy as np\n",
    "\n",
    "def ReluAct(x):\n",
    "    return np.maximum(0, x)\n",
    "\n",
    "def derivativeRelu(x):\n",
    "    return (x > 0).astype(float)\n",
    "\n",
    "inputs = np.array([10.0, 20.0, 30.0, 40.0])   \n",
    "weights = np.random.randn(3, 4)              \n",
    "biases = np.zeros(3)                        \n",
    "target = 5.0\n",
    "lr = 0.001\n",
    "\n",
    "\n",
    "dy_da = np.ones(3)\n",
    "\n",
    "for it in range(100):\n",
    "\n",
    "    z = weights.dot(inputs) + biases        \n",
    "    a = ReluAct(z)                        \n",
    "    y = a.sum()                           \n",
    "    loss = (y - target)**2\n",
    "\n",
    "    dL_dy = 2.0 * (y)             \n",
    "\n",
    "    da_dz = derivativeRelu(z)              \n",
    "    dL_da = dL_dy * dy_da                  \n",
    "    dL_dz = dL_da * da_dz                 \n",
    "\n",
    "    dL_dW = dL_dz[:, np.newaxis] * inputs[np.newaxis, :]   \n",
    "\n",
    "    dL_db = dL_dz.copy()                  \n",
    "\n",
    "    weights -= lr * dL_dW\n",
    "    biases  -= lr * dL_db\n",
    "\n",
    "    if it % 10 == 0:\n",
    "        print(f\"iter {it:03d}  loss {loss:.6f}  y {y:.4f}\")\n"
   ]
  },
  {
   "cell_type": "markdown",
   "id": "3f7d9ce4",
   "metadata": {},
   "source": [
    "# Dense Layer + Backward "
   ]
  },
  {
   "cell_type": "code",
   "execution_count": null,
   "id": "c2d552de",
   "metadata": {},
   "outputs": [],
   "source": [
    "class ReluAct:\n",
    "    def forward(self, x):\n",
    "        self.input = x\n",
    "        self.output = np.maximum(0, x)\n",
    "        return self.output\n",
    "    \n",
    "    def backward(self, dL_dout):\n",
    "        dL_dinput = dL_dout * (self.input > 0).astype(float)\n",
    "        return dL_dinput\n"
   ]
  },
  {
   "cell_type": "code",
   "execution_count": null,
   "id": "3ca0f624",
   "metadata": {},
   "outputs": [],
   "source": [
    "class CrossEntropyLoss:\n",
    "    def forward(self, y_pred, y_true):\n",
    "        # Convert integer labels to one-hot if needed\n",
    "        if y_true.ndim == 2 and y_true.shape[1] != y_pred.shape[1]:\n",
    "            raise ValueError(\"y_true shape does not match y_pred classes\")\n",
    "        if y_true.ndim == 1 or (y_true.ndim == 2 and y_true.shape[1] == 1):\n",
    "            y_one_hot = np.zeros_like(y_pred)\n",
    "            y_one_hot[np.arange(y_true.size), y_true.flatten()] = 1\n",
    "            y_true = y_one_hot\n",
    "        \n",
    "        y_pred_clipped = np.clip(y_pred, 1e-12, 1.0)\n",
    "        sample_losses = -np.sum(y_true * np.log(y_pred_clipped), axis=1)\n",
    "        self.y_pred = y_pred\n",
    "        self.y_true = y_true\n",
    "        return np.mean(sample_losses)\n",
    "\n",
    "    def backward(self):\n",
    "        n_samples = self.y_true.shape[0]\n",
    "        dL_dy = (self.y_pred - self.y_true) / n_samples\n",
    "        return dL_dy\n",
    "\n",
    "\n"
   ]
  },
  {
   "cell_type": "code",
   "execution_count": null,
   "id": "e23e3cac",
   "metadata": {},
   "outputs": [],
   "source": [
    "class Softmax:\n",
    "    def forward(self, x):\n",
    "        max_row = np.max(x, axis=1, keepdims=True)\n",
    "        normalize_row = x - max_row\n",
    "        expo = np.exp(normalize_row)\n",
    "        self.output = expo / np.sum(expo, axis=1, keepdims=True)\n",
    "        print('googd')\n",
    "        return self.output\n",
    "   "
   ]
  },
  {
   "cell_type": "code",
   "execution_count": null,
   "id": "dd3a4b91",
   "metadata": {},
   "outputs": [],
   "source": [
    "import numpy as np\n",
    "\n",
    "class Dense:\n",
    "    def __init__(self, input_dim, output_dim):\n",
    "        self.weights = np.random.randn(output_dim, input_dim) * 0.01\n",
    "        self.biases = np.zeros(output_dim)\n",
    "    \n",
    "    def forward(self, x):\n",
    "        self.input = x           \n",
    "        self.output = x @ self.weights.T + self.biases  \n",
    "        return self.output\n",
    "\n",
    "    def backward(self, dL_dout):\n",
    "        self.dweights = dL_dout.T @ self.input  \n",
    "        self.dbias = np.sum(dL_dout, axis=0) \n",
    "        dL_dinput = dL_dout @ self.weights  \n",
    "        \n",
    "        return dL_dinput\n"
   ]
  },
  {
   "cell_type": "code",
   "execution_count": null,
   "id": "0a6b53f5",
   "metadata": {},
   "outputs": [],
   "source": [
    "class SGDoptimizer:\n",
    "    def __init__(self,learning_rate=0.1):\n",
    "        self.lr=learning_rate\n",
    "    def forward(self,layer,):\n",
    "        layer.weights = layer.weights - self.lr*layer.dweights \n",
    "        layer.biases = layer.biases - self.lr*layer.dbias "
   ]
  },
  {
   "cell_type": "code",
   "execution_count": null,
   "id": "78fefc12",
   "metadata": {},
   "outputs": [],
   "source": [
    "import nnfs.datasets\n",
    "\n",
    "\n",
    "X,y = nnfs.datasets.vertical_data(samples=10000,classes=2)\n",
    "x_train = X[:,0:8000]\n",
    "y_train = X[:,0:8000]\n",
    "x_test = X[:,8000:10000]\n",
    "y_test = X[:,8000:10000]"
   ]
  },
  {
   "cell_type": "code",
   "execution_count": null,
   "id": "0b4d210d",
   "metadata": {},
   "outputs": [
    {
     "data": {
      "text/plain": [
       "<matplotlib.collections.PathCollection at 0x1e8b92cafd0>"
      ]
     },
     "execution_count": 32,
     "metadata": {},
     "output_type": "execute_result"
    },
    {
     "data": {
      "image/png": "[encoded data removed]",
      "text/plain": [
       "<Figure size 640x480 with 1 Axes>"
      ]
     },
     "metadata": {},
     "output_type": "display_data"
    }
   ],
   "source": [
    "import matplotlib.pyplot as plt\n",
    "plt.scatter(X[:,0],X[:,1],c=y)"
   ]
  },
  {
   "cell_type": "code",
   "execution_count": null,
   "id": "a25bcd90",
   "metadata": {},
   "outputs": [
    {
     "data": {
      "text/plain": [
       "np.float64(1.0984188126015206)"
      ]
     },
     "execution_count": 27,
     "metadata": {},
     "output_type": "execute_result"
    }
   ],
   "source": [
    "\n",
    "# # inputs = np.array([[10.0, 20.0, 30.0, 40.0]]) \n",
    "# # target = np.array([[1.0, 0.0, 0.0]])           \n",
    "# lr = 0.001\n",
    "\n",
    "# dense = Dense(input_dim=2, output_dim=3)\n",
    "# relu = ReluAct()\n",
    "# softmax = Softmax()\n",
    "# loss_func = CrossEntropyLoss()\n",
    "# SGD = SGDoptimizer()\n",
    "# # Training loop\n",
    "\n",
    "# # Forward pass\n",
    "# z = dense.forward(X)           # (1, 3)\n",
    "# a = relu.forward(z)   \n",
    "# y_pred = softmax.forward(a) # Output 200x3\n",
    "# loss = loss_func.forward(y_pred, y) # y=200x1\n",
    "# loss"
   ]
  },
  {
   "cell_type": "code",
   "execution_count": null,
   "id": "d935d623",
   "metadata": {},
   "outputs": [],
   "source": [
    "def accuracy(y_pred, y_true):\n",
    "    # y_pred: (samples, classes)\n",
    "    # y_true: (samples,) integers\n",
    "    y_pred_classes = np.argmax(y_pred, axis=1)\n",
    "    return np.mean(y_pred_classes == y_true)\n"
   ]
  },
  {
   "cell_type": "code",
   "execution_count": null,
   "id": "0816f580",
   "metadata": {},
   "outputs": [
    {
     "ename": "ValueError",
     "evalue": "y_true shape does not match y_pred classes",
     "output_type": "error",
     "traceback": [
      "\u001b[31m---------------------------------------------------------------------------\u001b[39m",
      "\u001b[31mValueError\u001b[39m                                Traceback (most recent call last)",
      "\u001b[36mCell\u001b[39m\u001b[36m \u001b[39m\u001b[32mIn[38]\u001b[39m\u001b[32m, line 14\u001b[39m\n\u001b[32m     12\u001b[39m a = relu.forward(z)                 \u001b[38;5;66;03m# (1, 3)\u001b[39;00m\n\u001b[32m     13\u001b[39m y_pred = softmax.forward(a)         \u001b[38;5;66;03m# (1, 3) - no transpose!\u001b[39;00m\n\u001b[32m---> \u001b[39m\u001b[32m14\u001b[39m loss = \u001b[43mloss_func\u001b[49m\u001b[43m.\u001b[49m\u001b[43mforward\u001b[49m\u001b[43m(\u001b[49m\u001b[43my_pred\u001b[49m\u001b[43m,\u001b[49m\u001b[43m \u001b[49m\u001b[43my_train\u001b[49m\u001b[43m)\u001b[49m\n\u001b[32m     16\u001b[39m \u001b[38;5;66;03m# Backward pass - combined softmax + cross-entropy gradient\u001b[39;00m\n\u001b[32m     17\u001b[39m dL = loss_func.backward()           \u001b[38;5;66;03m# (1, 3)\u001b[39;00m\n",
      "\u001b[36mCell\u001b[39m\u001b[36m \u001b[39m\u001b[32mIn[25]\u001b[39m\u001b[32m, line 5\u001b[39m, in \u001b[36mCrossEntropyLoss.forward\u001b[39m\u001b[34m(self, y_pred, y_true)\u001b[39m\n\u001b[32m      2\u001b[39m \u001b[38;5;28;01mdef\u001b[39;00m\u001b[38;5;250m \u001b[39m\u001b[34mforward\u001b[39m(\u001b[38;5;28mself\u001b[39m, y_pred, y_true):\n\u001b[32m      3\u001b[39m     \u001b[38;5;66;03m# Convert integer labels to one-hot if needed\u001b[39;00m\n\u001b[32m      4\u001b[39m     \u001b[38;5;28;01mif\u001b[39;00m y_true.ndim == \u001b[32m2\u001b[39m \u001b[38;5;129;01mand\u001b[39;00m y_true.shape[\u001b[32m1\u001b[39m] != y_pred.shape[\u001b[32m1\u001b[39m]:\n\u001b[32m----> \u001b[39m\u001b[32m5\u001b[39m         \u001b[38;5;28;01mraise\u001b[39;00m \u001b[38;5;167;01mValueError\u001b[39;00m(\u001b[33m\"\u001b[39m\u001b[33my_true shape does not match y_pred classes\u001b[39m\u001b[33m\"\u001b[39m)\n\u001b[32m      6\u001b[39m     \u001b[38;5;28;01mif\u001b[39;00m y_true.ndim == \u001b[32m1\u001b[39m \u001b[38;5;129;01mor\u001b[39;00m (y_true.ndim == \u001b[32m2\u001b[39m \u001b[38;5;129;01mand\u001b[39;00m y_true.shape[\u001b[32m1\u001b[39m] == \u001b[32m1\u001b[39m):\n\u001b[32m      7\u001b[39m         y_one_hot = np.zeros_like(y_pred)\n",
      "\u001b[31mValueError\u001b[39m: y_true shape does not match y_pred classes"
     ]
    }
   ],
   "source": [
    "         \n",
    "lr = 0.001\n",
    "\n",
    "dense = Dense(input_dim=2, output_dim=3)\n",
    "relu = ReluAct()\n",
    "softmax = Softmax()\n",
    "loss_func = CrossEntropyLoss()\n",
    "SGD = SGDoptimizer()\n",
    "# Training loop\n",
    "for it in range(10000):\n",
    "    # Forward pass\n",
    "    z = dense.forward(x_train)           # (1, 3)\n",
    "    a = relu.forward(z)                 # (1, 3)\n",
    "    y_pred = softmax.forward(a)         # (1, 3) - no transpose!\n",
    "    loss = loss_func.forward(y_pred, y_train)\n",
    "    \n",
    "    # Backward pass - combined softmax + cross-entropy gradient\n",
    "    dL = loss_func.backward()           # (1, 3)\n",
    "    dL = relu.backward(dL)              # (1, 3)\n",
    "    dL = dense.backward(dL)             # (1, 4)\n",
    "    SGD.forward(dense)\n",
    "\n",
    "\n",
    "    if it % 10 == 0:\n",
    "        acc = accuracy(y_pred, y_train.flatten())\n",
    "        print(f\"iter {it:05d}  loss {loss:.6f}  acc {acc:.4f}\")\n"
   ]
  },
  {
   "cell_type": "code",
   "execution_count": null,
   "id": "4c6f1eb9",
   "metadata": {},
   "outputs": [],
   "source": [
    "\n",
    "# Training loop\n",
    "for it in range(x_test.shape[0]):\n",
    "    \n",
    "    z = dense.forward(x_test[it])           # (1, 3)\n",
    "    a = relu.forward(z)                 # (1, 3)\n",
    "    y_pred = softmax.forward(a)         # (1, 3) - no transpose!\n",
    "    loss = loss_func.forward(y_pred, y[it])\n",
    "    \n",
    "    # Backward pass - combined softmax + cross-entropy gradient\n",
    "    dL = loss_func.backward()           # (1, 3)\n",
    "    dL = relu.backward(dL)              # (1, 3)\n",
    "    dL = dense.backward(dL)             # (1, 4)\n",
    "    SGD.forward(dense)\n",
    "\n",
    "\n",
    "    if it % 10 == 0:\n",
    "        print(f\"iter {it:03d}  loss {loss:.6f}  y_pred {y_pred[0]}\")\n"
   ]
  }
 ],
 "metadata": {
  "kernelspec": {
   "display_name": ".venv",
   "language": "python",
   "name": "python3"
  },
  "language_info": {
   "codemirror_mode": {
    "name": "ipython",
    "version": 3
   },
   "file_extension": ".py",
   "mimetype": "text/x-python",
   "name": "python",
   "nbconvert_exporter": "python",
   "pygments_lexer": "ipython3",
   "version": "3.13.6"
  }
 },
 "nbformat": 4,
 "nbformat_minor": 5
}
