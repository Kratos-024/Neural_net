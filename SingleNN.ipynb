{
 "cells": [
  {
   "cell_type": "code",
   "execution_count": 327,
   "id": "e61fed84",
   "metadata": {},
   "outputs": [],
   "source": [
    "import numpy as np\n",
    "import pandas as pd"
   ]
  },
  {
   "cell_type": "code",
   "execution_count": 328,
   "id": "18f23594",
   "metadata": {},
   "outputs": [
    {
     "data": {
      "text/plain": [
       "array([[-0.01669244, -0.00515437,  0.01603616]])"
      ]
     },
     "execution_count": 328,
     "metadata": {},
     "output_type": "execute_result"
    }
   ],
   "source": [
    "input = np.array([1,2,3])\n",
    "weights = np.random.randn(3, 3) * 0.01\n",
    "bias = np.zeros((1,3))\n",
    "\n",
    "output=np.dot(input,weights)+bias\n",
    "output"
   ]
  },
  {
   "cell_type": "markdown",
   "id": "86f58487",
   "metadata": {},
   "source": [
    "Activation function"
   ]
  },
  {
   "cell_type": "code",
   "execution_count": 329,
   "id": "7c51f936",
   "metadata": {},
   "outputs": [],
   "source": [
    "class ReluAct:\n",
    "    def __init__(self):\n",
    "        pass\n",
    "    def forward(self,inputs):\n",
    "         self.output=np.maximum(0,inputs)\n",
    "         return self.output"
   ]
  },
  {
   "cell_type": "code",
   "execution_count": 330,
   "id": "6c2ddb6c",
   "metadata": {},
   "outputs": [
    {
     "name": "stdout",
     "output_type": "stream",
     "text": [
      "[[ 0.04449274 -0.07432865  0.01881836]]\n"
     ]
    },
    {
     "data": {
      "text/plain": [
       "array([[0.04449274, 0.        , 0.01881836]])"
      ]
     },
     "execution_count": 330,
     "metadata": {},
     "output_type": "execute_result"
    }
   ],
   "source": [
    "input = np.array([1,2,3])\n",
    "weights = np.random.randn(3, 3) * 0.01\n",
    "bias = np.zeros((1,3))\n",
    "\n",
    "output=np.dot(input,weights)+bias\n",
    "print(output)\n",
    "output = ReLu(output)\n",
    "output"
   ]
  },
  {
   "cell_type": "code",
   "execution_count": 331,
   "id": "366010d8",
   "metadata": {},
   "outputs": [
    {
     "name": "stdout",
     "output_type": "stream",
     "text": [
      "[[ 0.00091892  0.02170107 -0.0004759 ]\n",
      " [-0.00204673  0.06165744 -0.01380166]\n",
      " [-0.02979859  0.12972234 -0.10188826]]\n"
     ]
    },
    {
     "data": {
      "text/plain": [
       "array([[0.00091892, 0.02170107, 0.        ],\n",
       "       [0.        , 0.06165744, 0.        ],\n",
       "       [0.        , 0.12972234, 0.        ]])"
      ]
     },
     "execution_count": 331,
     "metadata": {},
     "output_type": "execute_result"
    }
   ],
   "source": [
    "input = np.array([[1,2,3],[3,4,5],[6,8,1]]) # 3x3\n",
    "weights = np.random.randn(3, 3) * 0.01 # 3x3\n",
    "bias = np.zeros((1,3))\n",
    "\n",
    "output=np.dot(input,weights)+bias\n",
    "print(output)\n",
    "output = ReLu(output)\n",
    "output"
   ]
  },
  {
   "cell_type": "markdown",
   "id": "851ae984",
   "metadata": {},
   "source": [
    "# Batch inputs"
   ]
  },
  {
   "cell_type": "code",
   "execution_count": 332,
   "id": "00df55d9",
   "metadata": {},
   "outputs": [
    {
     "name": "stdout",
     "output_type": "stream",
     "text": [
      "[[ 0.0211063  -0.03320323  0.00794255]\n",
      " [ 0.04193656 -0.06290099  0.02210576]\n",
      " [ 0.11830898 -0.06324467  0.06486607]]\n"
     ]
    },
    {
     "data": {
      "text/plain": [
       "array([[0.0211063 , 0.        , 0.00794255],\n",
       "       [0.04193656, 0.        , 0.02210576],\n",
       "       [0.11830898, 0.        , 0.06486607]])"
      ]
     },
     "execution_count": 332,
     "metadata": {},
     "output_type": "execute_result"
    }
   ],
   "source": [
    "input = np.array([[1,2,3],[3,4,5],[6,8,1]]) # 3x3\n",
    "weights = np.random.randn(3, 3) * 0.01 # 3x3\n",
    "bias = np.zeros((1,3))\n",
    "\n",
    "output=np.dot(input,weights)+bias\n",
    "print(output)\n",
    "output = ReLu(output)\n",
    "output"
   ]
  },
  {
   "cell_type": "markdown",
   "id": "276db529",
   "metadata": {},
   "source": [
    "# Multiple Layers"
   ]
  },
  {
   "cell_type": "code",
   "execution_count": 333,
   "id": "e095d1c2",
   "metadata": {},
   "outputs": [
    {
     "name": "stdout",
     "output_type": "stream",
     "text": [
      "[[0.         0.02334242 0.        ]\n",
      " [0.         0.04390044 0.        ]\n",
      " [0.         0.06916325 0.        ]]\n",
      "[[0.         0.         0.0001153 ]\n",
      " [0.         0.         0.00021685]\n",
      " [0.         0.         0.00034163]]\n"
     ]
    }
   ],
   "source": [
    "input = np.array([[1,2,3],[3,4,5],[6,8,1]]) # 3x3\n",
    "# Layer 1\n",
    "weights1 = np.random.randn(3, 3) * 0.01 # 3x3\n",
    "bias1 = np.zeros((1,3))\n",
    "\n",
    "# Layer 2\n",
    "weights2 = np.random.randn(3, 3) * 0.01 # 3x3\n",
    "bias2 = np.zeros((1,3))\n",
    "\n",
    "layer1=np.dot(input,weights1)+bias1\n",
    "layer1 = ReLu(layer1)\n",
    "print(layer1)\n",
    "\n",
    "layer2=np.dot(layer1,weights2)+bias2\n",
    "output = ReLu(layer2)\n",
    "\n",
    "print(output)\n"
   ]
  },
  {
   "cell_type": "markdown",
   "id": "8998c434",
   "metadata": {},
   "source": [
    "# Class of NN"
   ]
  },
  {
   "cell_type": "code",
   "execution_count": 334,
   "id": "a98afd6b",
   "metadata": {},
   "outputs": [],
   "source": [
    "class Dense:\n",
    "    def __init__(self,inputs,neurons):\n",
    "        self.weights=np.random.randn(inputs,neurons)\n",
    "        self.bias=np.zeros((1,neurons))\n",
    "    def forward(self,input):\n",
    "        self.output = np.dot(input,self.weights)+self.bias\n",
    "        return self.output\n"
   ]
  },
  {
   "cell_type": "markdown",
   "id": "75551aa9",
   "metadata": {},
   "source": [
    "# Softmax"
   ]
  },
  {
   "cell_type": "code",
   "execution_count": 335,
   "id": "f9e09268",
   "metadata": {},
   "outputs": [],
   "source": [
    "class Softmax:\n",
    "    def __init__(self):\n",
    "        pass\n",
    "    def forward(self,input):\n",
    "        max_row = np.max(input,axis=1,keepdims=True)\n",
    "        normalize_row = input-max_row\n",
    "        expo_max = np.sum(np.exp(normalize_row),axis=1,keepdims=True)\n",
    "        expo_values = np.exp(normalize_row)/expo_max\n",
    "        self.output = expo_values\n",
    "\n",
    "\n",
    "        "
   ]
  },
  {
   "cell_type": "markdown",
   "id": "4b0f6c47",
   "metadata": {},
   "source": [
    "# Cross Entropy Loss"
   ]
  },
  {
   "cell_type": "code",
   "execution_count": null,
   "id": "7cf746ff",
   "metadata": {},
   "outputs": [],
   "source": [
    "class Cross_entropyLoss:\n",
    "    def __init__(self):\n",
    "        pass\n",
    "    def forward(self, y_pred, y_true):\n",
    "        y_pred_clipped = np.clip(y_pred, 1e-12, 1.0)\n",
    "        sample_losses = -np.sum(y_true * np.log(y_pred_clipped), axis=1)\n",
    "       \n",
    "        self.output = np.mean(sample_losses)\n",
    "        return self.output\n"
   ]
  },
  {
   "cell_type": "code",
   "execution_count": 337,
   "id": "6c67c1aa",
   "metadata": {},
   "outputs": [],
   "source": [
    "y = np.array([\n",
    "    [1, 0, 0],  # sample 1 → class 0\n",
    "    [0, 1, 0],  # sample 2 → class 1\n",
    "    [0, 0, 1]   # sample 3 → class 2\n",
    "])\n"
   ]
  },
  {
   "cell_type": "code",
   "execution_count": 338,
   "id": "87508809",
   "metadata": {},
   "outputs": [
    {
     "name": "stdout",
     "output_type": "stream",
     "text": [
      "[27.63102112 27.63102112  7.98177974]\n"
     ]
    },
    {
     "data": {
      "text/plain": [
       "np.float64(21.08127399083535)"
      ]
     },
     "execution_count": 338,
     "metadata": {},
     "output_type": "execute_result"
    }
   ],
   "source": [
    "cs = Cross_entropyLoss()\n",
    "cs.forward(output,y)"
   ]
  },
  {
   "cell_type": "markdown",
   "id": "325d6ccc",
   "metadata": {},
   "source": [
    "# Dense Layer with Activation, Softmax, Loss function"
   ]
  },
  {
   "cell_type": "code",
   "execution_count": 339,
   "id": "24b5747f",
   "metadata": {},
   "outputs": [
    {
     "name": "stdout",
     "output_type": "stream",
     "text": [
      "[1.0988251  1.09846385 1.09959485]\n",
      "1.0989612687599504\n"
     ]
    }
   ],
   "source": [
    "input = np.array([[1,2,3],[3,4,5],[6,8,1]]) # 3x3\n",
    "# Layer 1\n",
    "weights1 = np.random.randn(3, 3) * 0.01 # 3x3\n",
    "bias1 = np.zeros((1,3))\n",
    "\n",
    "# Layer 2\n",
    "weights2 = np.random.randn(3, 3) * 0.01 # 3x3\n",
    "bias2 = np.zeros((1,3))\n",
    "\n",
    "layer1=np.dot(input,weights1)+bias1\n",
    "layer1 = ReLu(layer1)\n",
    "\n",
    "layer2=np.dot(layer1,weights2)+bias2\n",
    "\n",
    "actSoft = Softmax()\n",
    "actSoft.forward(layer2)\n",
    "\n",
    "lossFun = Cross_entropyLoss()\n",
    "lossFun.forward(actSoft.output,[[1,0,0],[0,1,0],[1,0,0]])\n",
    "\n",
    "\n",
    "print(lossFun.output)\n"
   ]
  },
  {
   "cell_type": "code",
   "execution_count": 340,
   "id": "0d01cc8d",
   "metadata": {},
   "outputs": [
    {
     "ename": "TypeError",
     "evalue": "Cross_entropyLoss.forward() missing 1 required positional argument: 'y_true'",
     "output_type": "error",
     "traceback": [
      "\u001b[31m---------------------------------------------------------------------------\u001b[39m",
      "\u001b[31mTypeError\u001b[39m                                 Traceback (most recent call last)",
      "\u001b[36mCell\u001b[39m\u001b[36m \u001b[39m\u001b[32mIn[340]\u001b[39m\u001b[32m, line 38\u001b[39m\n\u001b[32m     36\u001b[39m output_layer2 = layer2.forward(output_relu)\n\u001b[32m     37\u001b[39m actSoft_output = actSoft.forward(output_layer2)\n\u001b[32m---> \u001b[39m\u001b[32m38\u001b[39m lossFun_output = \u001b[43mlossFun\u001b[49m\u001b[43m.\u001b[49m\u001b[43mforward\u001b[49m\u001b[43m(\u001b[49m\u001b[43mactSoft_output\u001b[49m\u001b[43m)\u001b[49m\n\u001b[32m     40\u001b[39m \u001b[38;5;66;03m# actSoft_output.output has shape (batch_size, n_classes)\u001b[39;00m\n\u001b[32m     41\u001b[39m pred_classes = np.argmax(actSoft_output.output, axis=\u001b[32m1\u001b[39m)\n",
      "\u001b[31mTypeError\u001b[39m: Cross_entropyLoss.forward() missing 1 required positional argument: 'y_true'"
     ]
    }
   ],
   "source": [
    "X = np.array([\n",
    "    [1, 2, 3],\n",
    "    [3, 4, 5],\n",
    "    [6, 8, 1]\n",
    "])\n",
    "\n",
    "# True labels (3 classes, one-hot)\n",
    "# Let's say sample 1 → class 0, sample 2 → class 1, sample 3 → class 2\n",
    "y = np.array([\n",
    "    [1, 0, 0],  # sample 1 → class 0\n",
    "    [0, 1, 0],  # sample 2 → class 1\n",
    "    [0, 0, 1]   # sample 3 → class 2\n",
    "])\n",
    "\n",
    "layer1 = Dense(3,3)\n",
    "layer2 = Dense(3,3)\n",
    "\n",
    "largest_loss = 99999\n",
    "best_weights1 = layer1.weights.copy()\n",
    "best_bias1 = layer1.bias.copy()\n",
    "best_weights2 = layer2.weights.copy()\n",
    "best_bias2 = layer2.bias.copy()\n",
    "\n",
    "reluAct = ReluAct()\n",
    "actSoft = Softmax()\n",
    "lossFun = Cross_entropyLoss()\n",
    "\n",
    "for i in range(1000):\n",
    "    layer1.weights = 0.05 * np.random.randn(3,3)\n",
    "    layer1.bias = np.zeros((1,3))\n",
    "    layer2.weights = 0.05 *np.random.randn(3,3)\n",
    "    layer2.bias = np.zeros((1,3))\n",
    "\n",
    "    output_layer1 = layer1.forward(X)\n",
    "    output_relu = reluAct.forward(output_layer1)\n",
    "    output_layer2 = layer2.forward(output_relu)\n",
    "    actSoft_output = actSoft.forward(output_layer2)\n",
    "    lossFun_output = lossFun.forward(actSoft_output)\n",
    "    \n",
    "    # actSoft_output.output has shape (batch_size, n_classes)\n",
    "    pred_classes = np.argmax(actSoft_output.output, axis=1)\n",
    "    true_classes = np.argmax(y, axis=1)\n",
    "\n",
    "    acc = np.mean(pred_classes == true_classes)\n",
    "\n",
    "    \n",
    "    if lossFun_output < largest_loss:\n",
    "        print(\"New Less loss has been found at: \",i, \" loss \",lossFun_output, \" Accuracy \", acc)\n",
    "        largest_loss=lossFun_output\n",
    "        best_weights1 = layer1.weights.copy()\n",
    "        best_bias1 = layer1.bias.copy()\n",
    "        best_weights2 = layer2.weights.copy()\n",
    "        best_bias2 = layer2.bias.copy()\n",
    "\n",
    "    \n",
    "\n"
   ]
  },
  {
   "cell_type": "code",
   "execution_count": null,
   "id": "9f42aa33",
   "metadata": {},
   "outputs": [],
   "source": []
  }
 ],
 "metadata": {
  "kernelspec": {
   "display_name": ".venv",
   "language": "python",
   "name": "python3"
  },
  "language_info": {
   "codemirror_mode": {
    "name": "ipython",
    "version": 3
   },
   "file_extension": ".py",
   "mimetype": "text/x-python",
   "name": "python",
   "nbconvert_exporter": "python",
   "pygments_lexer": "ipython3",
   "version": "3.13.6"
  }
 },
 "nbformat": 4,
 "nbformat_minor": 5
}
