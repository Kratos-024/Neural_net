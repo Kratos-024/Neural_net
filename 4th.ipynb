{
 "cells": [
  {
   "cell_type": "code",
   "execution_count": 342,
   "id": "a65852a5",
   "metadata": {},
   "outputs": [],
   "source": [
    "import numpy as np"
   ]
  },
  {
   "cell_type": "code",
   "execution_count": 343,
   "id": "00bb8680",
   "metadata": {},
   "outputs": [],
   "source": [
    "class Dense:\n",
    "    def __init__(self, input_dim, output_dim):\n",
    "        self.weights = 0.01* np.random.randn(input_dim, output_dim)\n",
    "        self.biases = np.zeros((1,output_dim))\n",
    "    \n",
    "    def forward(self, x):\n",
    "        \"\"\"X = [[1,2,3] x1 rows, \n",
    "            [5,6,9] x2 rows,    \n",
    "            [11,6,9]] x3 rows \n",
    "         weights = [[11,42,53] input = 3 , neurons = 3 , \n",
    "            [55,36,92] ,    \n",
    "            [131,46,92]]\n",
    "         bias = [1,4,7]\n",
    "         result = [x1* weights[0] + bias[0], x2* weights[1] + bias[1]],x2* weights[2] + bias[2]\n",
    "         \"\"\"\n",
    "        self.input = x           # actually x = [[1,3],....[1,5] 300(cuz of 3 classes),2] \n",
    "        self.output = np.dot(x, self.weights) + self.biases # actually x * weights=[[]]\n",
    "        \n",
    "    \n",
    "    def backward(self, dL_dout):\n",
    "        self.dweights = dL_dout.T @ self.input  \n",
    "        self.dbias = np.sum(dL_dout, axis=0) \n",
    "        dL_dinput = dL_dout @ self.weights  \n",
    "        return dL_dinput\n"
   ]
  },
  {
   "cell_type": "code",
   "execution_count": 344,
   "id": "7322dedf",
   "metadata": {},
   "outputs": [],
   "source": [
    "class ReluAct:\n",
    "    def forward(self, x):\n",
    "        self.input = x\n",
    "        self.output = np.maximum(0, x)\n",
    "        \n",
    "    \n",
    "    def backward(self, dL_dout):\n",
    "        dL_dinput = dL_dout * (self.input > 0).astype(float)\n",
    "        return dL_dinput\n"
   ]
  },
  {
   "cell_type": "code",
   "execution_count": 345,
   "id": "910aa0f8",
   "metadata": {},
   "outputs": [],
   "source": [
    "class Softmax:\n",
    "    def forward(self, x):\n",
    "        max_row = np.max(x, axis=1, keepdims=True)\n",
    "        normalize_row = x - max_row\n",
    "        expo = np.exp(normalize_row)\n",
    "        self.output = expo / np.sum(expo, axis=1, keepdims=True)\n",
    "    \n",
    "\n"
   ]
  },
  {
   "cell_type": "code",
   "execution_count": 346,
   "id": "6a3a4a89",
   "metadata": {},
   "outputs": [],
   "source": [
    "class CrossEntropyLoss:\n",
    "    def forward(self, y_pred, y_true):\n",
    "        if y_true.ndim == 2 and y_true.shape[1] != y_pred.shape[1]:\n",
    "            raise ValueError(\"y_true shape does not match y_pred classes\")\n",
    "        if y_true.ndim == 1 or (y_true.ndim == 2 and y_true.shape[1] == 1):\n",
    "            y_one_hot = np.zeros_like(y_pred)\n",
    "            y_one_hot[np.arange(y_true.size), y_true.flatten()] = 1\n",
    "            y_true = y_one_hot\n",
    "        \n",
    "        y_pred_clipped = np.clip(y_pred, 1e-12, 1.0)\n",
    "        sample_losses = -np.sum(y_true * np.log(y_pred_clipped), axis=1)\n",
    "        self.y_pred = y_pred\n",
    "        self.y_true = y_true\n",
    "        self.output = np.mean(sample_losses)\n",
    "    \n",
    "    def backward(self):\n",
    "        n_samples = self.y_true.shape[0]\n",
    "        dL_dy = (self.y_pred - self.y_true) / n_samples\n",
    "        return dL_dy\n",
    "\n"
   ]
  },
  {
   "cell_type": "code",
   "execution_count": 347,
   "id": "cf8d9042",
   "metadata": {},
   "outputs": [],
   "source": [
    "    \n",
    "class SGDOptimizer:\n",
    "    def __init__(self,betaDecay,learning_rate=0.001):\n",
    "        self.lr = learning_rate\n",
    "        self.beta = betaDecay\n",
    "        self.momentum = None  \n",
    "    def update(self,layer):\n",
    "        if self.beta==0:\n",
    "            layer.weights = layer.weights - self.lr * layer.dweights \n",
    "            layer.biases = layer.biases - self.lr * layer.dbias\n",
    "        else:\n",
    "            if self.momentum is None:\n",
    "                self.momentum = SGDOptimizerMomentum(layer, self.lr, self.beta)\n",
    "            self.momentum.update()\n",
    "        \n",
    "    \n",
    "        \n"
   ]
  },
  {
   "cell_type": "code",
   "execution_count": 348,
   "id": "2c38d77e",
   "metadata": {},
   "outputs": [],
   "source": [
    "np.random.seed(42)"
   ]
  },
  {
   "cell_type": "code",
   "execution_count": 349,
   "id": "ff727449",
   "metadata": {},
   "outputs": [],
   "source": [
    "from nnfs.datasets import spiral_data\n",
    "X, y = spiral_data(samples=100, classes=3)\n",
    "\n",
    "dense1 = Dense(2, 64)\n",
    "activation1 = ReluAct()\n",
    "dense2 = Dense(64, 3)\n",
    "softmax = Softmax()\n",
    "loss_func = CrossEntropyLoss()\n",
    "optimizer = SGDOptimizer(learning_rate=0.01,betaDecay=0)\n",
    "\n"
   ]
  },
  {
   "cell_type": "code",
   "execution_count": null,
   "id": "87f39087",
   "metadata": {},
   "outputs": [],
   "source": []
  },
  {
   "cell_type": "code",
   "execution_count": 350,
   "id": "e0413177",
   "metadata": {},
   "outputs": [
    {
     "name": "stdout",
     "output_type": "stream",
     "text": [
      "0.3333333333333333\n"
     ]
    }
   ],
   "source": [
    "dense1.forward(X)\n",
    "activation1.forward(dense1.output)\n",
    "dense2.forward(activation1.output)\n",
    "softmax.forward(dense2.output)\n",
    "loss_func.forward(softmax.output,y)\n",
    "predictions = np.argmax(loss_func.output)\n",
    "if len(y.shape) == 2:\n",
    "        y = np.argmax(y, axis=1)\n",
    "accuracy = np.mean(predictions == y)\n",
    "\n",
    "print(accuracy)"
   ]
  },
  {
   "cell_type": "code",
   "execution_count": 351,
   "id": "f44b06d1",
   "metadata": {},
   "outputs": [
    {
     "data": {
      "text/plain": [
       "np.float64(1.0985852231839113)"
      ]
     },
     "execution_count": 351,
     "metadata": {},
     "output_type": "execute_result"
    }
   ],
   "source": [
    "loss_func.output"
   ]
  },
  {
   "cell_type": "code",
   "execution_count": null,
   "id": "8e514fae",
   "metadata": {},
   "outputs": [],
   "source": []
  },
  {
   "cell_type": "code",
   "execution_count": null,
   "id": "1beda023",
   "metadata": {},
   "outputs": [],
   "source": []
  }
 ],
 "metadata": {
  "kernelspec": {
   "display_name": ".venv",
   "language": "python",
   "name": "python3"
  },
  "language_info": {
   "codemirror_mode": {
    "name": "ipython",
    "version": 3
   },
   "file_extension": ".py",
   "mimetype": "text/x-python",
   "name": "python",
   "nbconvert_exporter": "python",
   "pygments_lexer": "ipython3",
   "version": "3.13.6"
  }
 },
 "nbformat": 4,
 "nbformat_minor": 5
}
