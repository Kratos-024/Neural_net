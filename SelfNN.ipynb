{
 "cells": [
  {
   "cell_type": "markdown",
   "id": "f8d7605e",
   "metadata": {},
   "source": []
  },
  {
   "cell_type": "code",
   "execution_count": 1,
   "id": "e6b5acdb",
   "metadata": {},
   "outputs": [],
   "source": [
    "import numpy as np\n",
    "import pandas as pd\n",
    "np.random.seed(42)"
   ]
  },
  {
   "cell_type": "code",
   "execution_count": 2,
   "id": "0d9adf74",
   "metadata": {},
   "outputs": [],
   "source": [
    "X = np.array([[5.1, 1.4],\n",
    "              [7.0, 4.7],\n",
    "              [6.3, 6.0],\n",
    "              [4.9, 1.5]])  # shape (4,2)\n",
    "y=np.array([0,1,2,0])\n"
   ]
  },
  {
   "cell_type": "code",
   "execution_count": 3,
   "id": "bd33c6f4",
   "metadata": {},
   "outputs": [
    {
     "data": {
      "text/plain": [
       "array([[5.1, 1.4],\n",
       "       [7. , 4.7],\n",
       "       [6.3, 6. ],\n",
       "       [4.9, 1.5]])"
      ]
     },
     "execution_count": 3,
     "metadata": {},
     "output_type": "execute_result"
    }
   ],
   "source": [
    "X\n"
   ]
  },
  {
   "cell_type": "code",
   "execution_count": 4,
   "id": "5672dd03",
   "metadata": {},
   "outputs": [
    {
     "name": "stdout",
     "output_type": "stream",
     "text": [
      "[[ 0.00496714 -0.00138264  0.00647689  0.0152303 ]\n",
      " [-0.00234153 -0.00234137  0.01579213  0.00767435]] \n",
      " [[0. 0. 0. 0.]]\n"
     ]
    }
   ],
   "source": [
    "# First Layer of 4 neuron \n",
    "w1=np.random.randn(2,4)*0.01\n",
    "b1=np.zeros((1,4))\n",
    "print(w1,'\\n',b1)\n"
   ]
  },
  {
   "cell_type": "code",
   "execution_count": 5,
   "id": "ddf8458f",
   "metadata": {},
   "outputs": [
    {
     "data": {
      "text/plain": [
       "array([[ 0.02205427, -0.0103294 ,  0.05514109,  0.08841861],\n",
       "       [ 0.02376478, -0.02068294,  0.1195612 ,  0.14268152],\n",
       "       [ 0.01724379, -0.02275887,  0.13555715,  0.14199696],\n",
       "       [ 0.02082669, -0.01028701,  0.05542493,  0.08613998]])"
      ]
     },
     "execution_count": 5,
     "metadata": {},
     "output_type": "execute_result"
    }
   ],
   "source": [
    "z1 = X@w1 + b1\n",
    "z1"
   ]
  },
  {
   "cell_type": "code",
   "execution_count": 6,
   "id": "c00101e6",
   "metadata": {},
   "outputs": [],
   "source": [
    "def ReLU(z):\n",
    "    return np.maximum(0, z)\n"
   ]
  },
  {
   "cell_type": "code",
   "execution_count": 7,
   "id": "5e12542a",
   "metadata": {},
   "outputs": [
    {
     "data": {
      "text/plain": [
       "array([[0.02205427, 0.        , 0.05514109, 0.08841861],\n",
       "       [0.02376478, 0.        , 0.1195612 , 0.14268152],\n",
       "       [0.01724379, 0.        , 0.13555715, 0.14199696],\n",
       "       [0.02082669, 0.        , 0.05542493, 0.08613998]])"
      ]
     },
     "execution_count": 7,
     "metadata": {},
     "output_type": "execute_result"
    }
   ],
   "source": [
    "A = ReLU(z1)\n",
    "A"
   ]
  },
  {
   "cell_type": "code",
   "execution_count": 8,
   "id": "6d00eef8",
   "metadata": {},
   "outputs": [
    {
     "name": "stdout",
     "output_type": "stream",
     "text": [
      "[[-0.00469474  0.0054256  -0.00463418]\n",
      " [-0.0046573   0.00241962 -0.0191328 ]\n",
      " [-0.01724918 -0.00562288 -0.01012831]\n",
      " [ 0.00314247 -0.00908024 -0.01412304]] \n",
      " [[0. 0. 0.]]\n"
     ]
    }
   ],
   "source": [
    "# Second Layer/output layer of 3 neurons (cuz of 3 output class)\n",
    "w2=np.random.randn(4,3)*0.01\n",
    "b2=np.zeros((1,3))\n",
    "print(w2,'\\n',b2)"
   ]
  },
  {
   "cell_type": "code",
   "execution_count": 9,
   "id": "e48401b9",
   "metadata": {},
   "outputs": [
    {
     "data": {
      "text/plain": [
       "array([[-0.00077682, -0.00099326, -0.00190943],\n",
       "       [-0.00172553, -0.00183892, -0.00333618],\n",
       "       [-0.00197298, -0.00195803, -0.0034583 ],\n",
       "       [-0.00078312, -0.00098082, -0.00187443]])"
      ]
     },
     "execution_count": 9,
     "metadata": {},
     "output_type": "execute_result"
    }
   ],
   "source": [
    "# output z2\n",
    "z2 = A@w2 + b2\n",
    "z2"
   ]
  },
  {
   "cell_type": "code",
   "execution_count": 10,
   "id": "aa87c9f6",
   "metadata": {},
   "outputs": [],
   "source": [
    "# Softmax layer with clipping for stability\n",
    "def softmax(z):\n",
    "    z_shift = z - np.max(z, axis=1, keepdims=True)  \n",
    "    val_e = np.exp(z_shift)\n",
    "    sum_row = np.sum(val_e, axis=1, keepdims=True)\n",
    "    prob = val_e / sum_row\n",
    "    prob = np.clip(prob, 1e-9, 1 - 1e-9) \n",
    "    return prob\n",
    "\n",
    "p = softmax(z2)\n"
   ]
  },
  {
   "cell_type": "code",
   "execution_count": 11,
   "id": "00859360",
   "metadata": {},
   "outputs": [
    {
     "data": {
      "text/plain": [
       "array([[0.33348322, 0.33341105, 0.33310573],\n",
       "       [0.33352486, 0.33348704, 0.3329881 ],\n",
       "       [0.33349667, 0.33350165, 0.33300168],\n",
       "       [0.33347655, 0.33341063, 0.33311282]])"
      ]
     },
     "execution_count": 11,
     "metadata": {},
     "output_type": "execute_result"
    }
   ],
   "source": [
    "p"
   ]
  },
  {
   "cell_type": "code",
   "execution_count": 12,
   "id": "08f0d017",
   "metadata": {},
   "outputs": [
    {
     "name": "stdout",
     "output_type": "stream",
     "text": [
      "1.098526115817355\n"
     ]
    }
   ],
   "source": [
    "# Loss - Cross binary entropy\n",
    "def cross_entropy_loss(y_true, y_pred):\n",
    "    n_samples = y_true.shape[0]\n",
    "    correct_probs = y_pred[np.arange(n_samples), y_true]\n",
    "    loss = -np.mean(np.log(correct_probs))\n",
    "    return loss\n",
    "\n",
    "loss = cross_entropy_loss(y, p)\n",
    "print(loss)\n"
   ]
  },
  {
   "cell_type": "markdown",
   "id": "d78ced90",
   "metadata": {},
   "source": [
    "# Backpropagation"
   ]
  },
  {
   "cell_type": "code",
   "execution_count": null,
   "id": "9e0f1f73",
   "metadata": {},
   "outputs": [],
   "source": [
    "\n"
   ]
  },
  {
   "cell_type": "code",
   "execution_count": 13,
   "id": "81631e79",
   "metadata": {},
   "outputs": [],
   "source": [
    "def make_ohe(y):\n",
    "    num_classes = y.max()+1\n",
    "    one_hot = np.eye(num_classes)[y]\n",
    "    return one_hot\n",
    "\n"
   ]
  },
  {
   "cell_type": "code",
   "execution_count": 14,
   "id": "7bf2b664",
   "metadata": {},
   "outputs": [],
   "source": [
    "# loss + softmax\n",
    "\n",
    "def backpropLoss_softmax(y_true,probability_return_from_softmax):\n",
    "    if y_true.ndim == 1:\n",
    "        y_ohe = make_ohe(y_true)\n",
    "        return probability_return_from_softmax- y_ohe\n",
    "    return probability_return_from_softmax - y_ohe\n"
   ]
  },
  {
   "cell_type": "code",
   "execution_count": 15,
   "id": "b637a7ed",
   "metadata": {},
   "outputs": [],
   "source": [
    "# back prop loss+softmax \n",
    "dl_dzj = backpropLoss_softmax(y,p)"
   ]
  },
  {
   "cell_type": "code",
   "execution_count": 16,
   "id": "9e33f310",
   "metadata": {},
   "outputs": [
    {
     "data": {
      "text/plain": [
       "array([[-0.66651678,  0.33341105,  0.33310573],\n",
       "       [ 0.33352486, -0.66651296,  0.3329881 ],\n",
       "       [ 0.33349667,  0.33350165, -0.66699832],\n",
       "       [-0.66652345,  0.33341063,  0.33311282]])"
      ]
     },
     "execution_count": 16,
     "metadata": {},
     "output_type": "execute_result"
    }
   ],
   "source": [
    "dl_dzj"
   ]
  },
  {
   "cell_type": "code",
   "execution_count": 17,
   "id": "a210fbaa",
   "metadata": {},
   "outputs": [],
   "source": [
    "dz_out_dw2 = A.T@ dl_dzj\n",
    "dz_out_db2 = 1* np.sum(dl_dzj, axis=0, keepdims=True)"
   ]
  },
  {
   "cell_type": "code",
   "execution_count": 18,
   "id": "48c08993",
   "metadata": {},
   "outputs": [
    {
     "data": {
      "text/plain": [
       "array([[-0.01490413,  0.00420828,  0.01069585],\n",
       "       [ 0.        ,  0.        ,  0.        ],\n",
       "       [ 0.01139001,  0.00238335, -0.01377336],\n",
       "       [-0.02140346,  0.01045687,  0.01094659]])"
      ]
     },
     "execution_count": 18,
     "metadata": {},
     "output_type": "execute_result"
    }
   ],
   "source": [
    "dz_out_dw2"
   ]
  },
  {
   "cell_type": "code",
   "execution_count": 19,
   "id": "37a22110",
   "metadata": {},
   "outputs": [
    {
     "data": {
      "text/plain": [
       "array([[-0.66601871,  0.33381037,  0.33220833]])"
      ]
     },
     "execution_count": 19,
     "metadata": {},
     "output_type": "execute_result"
    }
   ],
   "source": [
    "dz_out_db2"
   ]
  },
  {
   "cell_type": "code",
   "execution_count": 20,
   "id": "60b9c56d",
   "metadata": {},
   "outputs": [],
   "source": [
    "# derivative of Relu\n",
    "\n",
    "def relu_derivative(z):\n",
    "    dz = np.zeros_like(z)\n",
    "    dz[z > 0] = 1\n",
    "    return dz\n"
   ]
  },
  {
   "cell_type": "code",
   "execution_count": 21,
   "id": "69ce9554",
   "metadata": {},
   "outputs": [],
   "source": [
    "# dl_drelu_w = relu_derivative(dz_out_dw2)\n",
    "# dl_drelu_b = relu_derivative(dz_out_db2)"
   ]
  },
  {
   "cell_type": "code",
   "execution_count": 22,
   "id": "c5dbe169",
   "metadata": {},
   "outputs": [],
   "source": [
    "dL_dA1 = dl_dzj @ w2.T \n",
    "dL_dZ1 = dL_dA1 * relu_derivative(z1)\n"
   ]
  },
  {
   "cell_type": "code",
   "execution_count": 23,
   "id": "14cde33b",
   "metadata": {},
   "outputs": [
    {
     "data": {
      "text/plain": [
       "array([[ 0.00339441, -0.        ,  0.00624834, -0.00982643],\n",
       "       [-0.00672517, -0.        , -0.00537792,  0.00239739],\n",
       "       [ 0.00333475,  0.        , -0.00087222,  0.00743977],\n",
       "       [ 0.00339441, -0.        ,  0.00624839, -0.00982655]])"
      ]
     },
     "execution_count": 23,
     "metadata": {},
     "output_type": "execute_result"
    }
   ],
   "source": [
    "dL_dZ1"
   ]
  },
  {
   "cell_type": "code",
   "execution_count": 24,
   "id": "0054e1f6",
   "metadata": {},
   "outputs": [],
   "source": [
    "# gradients of First layer \n",
    "dz1_dw1=X\n",
    "dz1_db1 = 1"
   ]
  },
  {
   "cell_type": "code",
   "execution_count": 25,
   "id": "41cb9762",
   "metadata": {},
   "outputs": [],
   "source": [
    "# z1=X.t@w1+b1\n",
    "\n",
    "dL_dW1 =  X.T @ dL_dZ1 \n",
    "dL_db1 = np.sum(dL_dZ1, axis=0, keepdims=True)\n"
   ]
  },
  {
   "cell_type": "code",
   "execution_count": 26,
   "id": "e6e34c72",
   "metadata": {},
   "outputs": [
    {
     "data": {
      "text/plain": [
       "array([[ 0.00787682,  0.        ,  0.01934324, -0.03461259],\n",
       "       [-0.00175601,  0.        , -0.01238925,  0.02740953]])"
      ]
     },
     "execution_count": 26,
     "metadata": {},
     "output_type": "execute_result"
    }
   ],
   "source": [
    "dL_dW1"
   ]
  },
  {
   "cell_type": "code",
   "execution_count": null,
   "id": "8c4c47f6",
   "metadata": {},
   "outputs": [],
   "source": []
  }
 ],
 "metadata": {
  "kernelspec": {
   "display_name": ".venv",
   "language": "python",
   "name": "python3"
  },
  "language_info": {
   "codemirror_mode": {
    "name": "ipython",
    "version": 3
   },
   "file_extension": ".py",
   "mimetype": "text/x-python",
   "name": "python",
   "nbconvert_exporter": "python",
   "pygments_lexer": "ipython3",
   "version": "3.13.6"
  }
 },
 "nbformat": 4,
 "nbformat_minor": 5
}
