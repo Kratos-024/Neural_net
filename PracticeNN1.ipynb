{
 "cells": [
  {
   "cell_type": "code",
   "execution_count": 420,
   "id": "e61fed84",
   "metadata": {},
   "outputs": [],
   "source": [
    "import numpy as np\n",
    "import pandas as pd"
   ]
  },
  {
   "cell_type": "code",
   "execution_count": 421,
   "id": "18f23594",
   "metadata": {},
   "outputs": [
    {
     "data": {
      "text/plain": [
       "array([[-0.01163921,  0.0020616 , -0.00464584]])"
      ]
     },
     "execution_count": 421,
     "metadata": {},
     "output_type": "execute_result"
    }
   ],
   "source": [
    "input = np.array([1,2,3])\n",
    "weights = np.random.randn(3, 3) * 0.01\n",
    "bias = np.zeros((1,3))\n",
    "\n",
    "output=np.dot(input,weights)+bias\n",
    "output"
   ]
  },
  {
   "cell_type": "markdown",
   "id": "86f58487",
   "metadata": {},
   "source": [
    "Activation function"
   ]
  },
  {
   "cell_type": "code",
   "execution_count": 422,
   "id": "7c51f936",
   "metadata": {},
   "outputs": [],
   "source": [
    "class ReluAct:\n",
    "    def __init__(self):\n",
    "        pass\n",
    "    def forward(self,inputs):\n",
    "         self.output=np.maximum(0,inputs)\n",
    "         return self.output"
   ]
  },
  {
   "cell_type": "code",
   "execution_count": 423,
   "id": "6c2ddb6c",
   "metadata": {},
   "outputs": [
    {
     "name": "stdout",
     "output_type": "stream",
     "text": [
      "[[ 0.00504177  0.05072286 -0.03281478]]\n"
     ]
    },
    {
     "data": {
      "text/plain": [
       "array([[0.00504177, 0.05072286, 0.        ]])"
      ]
     },
     "execution_count": 423,
     "metadata": {},
     "output_type": "execute_result"
    }
   ],
   "source": [
    "input = np.array([1,2,3])\n",
    "weights = np.random.randn(3, 3) * 0.01\n",
    "bias = np.zeros((1,3))\n",
    "\n",
    "output=np.dot(input,weights)+bias\n",
    "print(output)\n",
    "output = ReLu(output)\n",
    "output"
   ]
  },
  {
   "cell_type": "code",
   "execution_count": 424,
   "id": "366010d8",
   "metadata": {},
   "outputs": [
    {
     "name": "stdout",
     "output_type": "stream",
     "text": [
      "[[ 0.01739508  0.00963517 -0.02268112]\n",
      " [ 0.02960449  0.0149406  -0.05912724]\n",
      " [-0.00034063  0.01702014 -0.0841906 ]]\n"
     ]
    },
    {
     "data": {
      "text/plain": [
       "array([[0.01739508, 0.00963517, 0.        ],\n",
       "       [0.02960449, 0.0149406 , 0.        ],\n",
       "       [0.        , 0.01702014, 0.        ]])"
      ]
     },
     "execution_count": 424,
     "metadata": {},
     "output_type": "execute_result"
    }
   ],
   "source": [
    "input = np.array([[1,2,3],[3,4,5],[6,8,1]]) # 3x3\n",
    "weights = np.random.randn(3, 3) * 0.01 # 3x3\n",
    "bias = np.zeros((1,3))\n",
    "\n",
    "output=np.dot(input,weights)+bias\n",
    "print(output)\n",
    "output = ReLu(output)\n",
    "output"
   ]
  },
  {
   "cell_type": "markdown",
   "id": "851ae984",
   "metadata": {},
   "source": [
    "# Batch inputs"
   ]
  },
  {
   "cell_type": "code",
   "execution_count": 425,
   "id": "00df55d9",
   "metadata": {},
   "outputs": [
    {
     "name": "stdout",
     "output_type": "stream",
     "text": [
      "[[-0.02356214  0.04055645 -0.02546388]\n",
      " [-0.04871708  0.07902515 -0.04168737]\n",
      " [-0.06762508  0.07214086 -0.06880115]]\n"
     ]
    },
    {
     "data": {
      "text/plain": [
       "array([[0.        , 0.04055645, 0.        ],\n",
       "       [0.        , 0.07902515, 0.        ],\n",
       "       [0.        , 0.07214086, 0.        ]])"
      ]
     },
     "execution_count": 425,
     "metadata": {},
     "output_type": "execute_result"
    }
   ],
   "source": [
    "input = np.array([[1,2,3],[3,4,5],[6,8,1]]) # 3x3\n",
    "weights = np.random.randn(3, 3) * 0.01 # 3x3\n",
    "bias = np.zeros((1,3))\n",
    "\n",
    "output=np.dot(input,weights)+bias\n",
    "print(output)\n",
    "output = ReLu(output)\n",
    "output"
   ]
  },
  {
   "cell_type": "markdown",
   "id": "276db529",
   "metadata": {},
   "source": [
    "# Multiple Layers"
   ]
  },
  {
   "cell_type": "code",
   "execution_count": 426,
   "id": "e095d1c2",
   "metadata": {},
   "outputs": [
    {
     "name": "stdout",
     "output_type": "stream",
     "text": [
      "[[0.03038941 0.10704594 0.02870362]\n",
      " [0.0638935  0.16587525 0.08237708]\n",
      " [0.09261033 0.03105966 0.21539809]]\n",
      "[[0.         0.         0.        ]\n",
      " [0.         0.         0.        ]\n",
      " [0.         0.00175329 0.00078726]]\n"
     ]
    }
   ],
   "source": [
    "input = np.array([[1,2,3],[3,4,5],[6,8,1]]) # 3x3\n",
    "# Layer 1\n",
    "weights1 = np.random.randn(3, 3) * 0.01 # 3x3\n",
    "bias1 = np.zeros((1,3))\n",
    "\n",
    "# Layer 2\n",
    "weights2 = np.random.randn(3, 3) * 0.01 # 3x3\n",
    "bias2 = np.zeros((1,3))\n",
    "\n",
    "layer1=np.dot(input,weights1)+bias1\n",
    "layer1 = ReLu(layer1)\n",
    "print(layer1)\n",
    "\n",
    "layer2=np.dot(layer1,weights2)+bias2\n",
    "output = ReLu(layer2)\n",
    "\n",
    "print(output)\n"
   ]
  },
  {
   "cell_type": "markdown",
   "id": "8998c434",
   "metadata": {},
   "source": [
    "# Class of NN"
   ]
  },
  {
   "cell_type": "code",
   "execution_count": 427,
   "id": "a98afd6b",
   "metadata": {},
   "outputs": [],
   "source": [
    "class Dense:\n",
    "    def __init__(self,inputs,neurons):\n",
    "        self.weights=np.random.randn(inputs,neurons)\n",
    "        self.bias=np.zeros((1,neurons))\n",
    "    def forward(self,input):\n",
    "        self.output = np.dot(input,self.weights)+self.bias\n",
    "        return self.output\n"
   ]
  },
  {
   "cell_type": "markdown",
   "id": "75551aa9",
   "metadata": {},
   "source": [
    "# Softmax"
   ]
  },
  {
   "cell_type": "code",
   "execution_count": 428,
   "id": "f9e09268",
   "metadata": {},
   "outputs": [],
   "source": [
    "class Softmax:\n",
    "    def __init__(self):\n",
    "        pass\n",
    "    def forward(self,input):\n",
    "        max_row = np.max(input,axis=1,keepdims=True)\n",
    "        normalize_row = input-max_row\n",
    "        expo_max = np.sum(np.exp(normalize_row),axis=1,keepdims=True)\n",
    "        expo_values = np.exp(normalize_row)/expo_max\n",
    "        self.output = expo_values\n",
    "        return self.output\n",
    "\n",
    "\n",
    "        "
   ]
  },
  {
   "cell_type": "markdown",
   "id": "4b0f6c47",
   "metadata": {},
   "source": [
    "# Cross Entropy Loss"
   ]
  },
  {
   "cell_type": "code",
   "execution_count": 429,
   "id": "7cf746ff",
   "metadata": {},
   "outputs": [],
   "source": [
    "class Cross_entropyLoss:\n",
    "    def __init__(self):\n",
    "        pass\n",
    "    def forward(self, y_pred, y_true):\n",
    "        y_pred_clipped = np.clip(y_pred, 1e-12, 1.0)\n",
    "        sample_losses = -np.sum(y_true * np.log(y_pred_clipped), axis=1)\n",
    "       \n",
    "        self.output = np.mean(sample_losses)\n",
    "        return self.output\n"
   ]
  },
  {
   "cell_type": "code",
   "execution_count": 430,
   "id": "6c67c1aa",
   "metadata": {},
   "outputs": [],
   "source": [
    "y = np.array([\n",
    "    [1, 0, 0],  # sample 1 → class 0\n",
    "    [0, 1, 0],  # sample 2 → class 1\n",
    "    [0, 0, 1]   # sample 3 → class 2\n",
    "])\n"
   ]
  },
  {
   "cell_type": "code",
   "execution_count": 431,
   "id": "87508809",
   "metadata": {},
   "outputs": [
    {
     "data": {
      "text/plain": [
       "np.float64(20.80299711621895)"
      ]
     },
     "execution_count": 431,
     "metadata": {},
     "output_type": "execute_result"
    }
   ],
   "source": [
    "cs = Cross_entropyLoss()\n",
    "cs.forward(output,y)"
   ]
  },
  {
   "cell_type": "markdown",
   "id": "325d6ccc",
   "metadata": {},
   "source": [
    "# Dense Layer with Activation, Softmax, Loss function"
   ]
  },
  {
   "cell_type": "code",
   "execution_count": 432,
   "id": "24b5747f",
   "metadata": {},
   "outputs": [
    {
     "name": "stdout",
     "output_type": "stream",
     "text": [
      "1.0989186875073964\n"
     ]
    }
   ],
   "source": [
    "input = np.array([[1,2,3],[3,4,5],[6,8,1]]) # 3x3\n",
    "# Layer 1\n",
    "weights1 = np.random.randn(3, 3) * 0.01 # 3x3\n",
    "bias1 = np.zeros((1,3))\n",
    "\n",
    "# Layer 2\n",
    "weights2 = np.random.randn(3, 3) * 0.01 # 3x3\n",
    "bias2 = np.zeros((1,3))\n",
    "\n",
    "layer1=np.dot(input,weights1)+bias1\n",
    "layer1 = ReLu(layer1)\n",
    "\n",
    "layer2=np.dot(layer1,weights2)+bias2\n",
    "\n",
    "actSoft = Softmax()\n",
    "actSoft.forward(layer2)\n",
    "\n",
    "lossFun = Cross_entropyLoss()\n",
    "lossFun.forward(actSoft.output,[[1,0,0],[0,1,0],[1,0,0]])\n",
    "\n",
    "\n",
    "print(lossFun.output)\n"
   ]
  },
  {
   "cell_type": "code",
   "execution_count": null,
   "id": "0d01cc8d",
   "metadata": {},
   "outputs": [
    {
     "name": "stdout",
     "output_type": "stream",
     "text": [
      "New Less loss has been found at:  0  loss  1.0986062984079403  Accuracy  0.3333333333333333\n",
      "New Less loss has been found at:  1  loss  1.0858992478809393  Accuracy  0.3333333333333333\n",
      "New Less loss has been found at:  53  loss  1.0642545714747251  Accuracy  0.3333333333333333\n",
      "New Less loss has been found at:  13682  loss  1.0621434976867528  Accuracy  0.3333333333333333\n",
      "New Less loss has been found at:  19031  loss  1.0572398383257238  Accuracy  0.3333333333333333\n",
      "New Less loss has been found at:  48955  loss  1.0542450403402746  Accuracy  0.3333333333333333\n",
      "New Less loss has been found at:  110839  loss  1.0509035513214162  Accuracy  0.3333333333333333\n",
      "New Less loss has been found at:  222298  loss  1.048888896269481  Accuracy  0.3333333333333333\n",
      "New Less loss has been found at:  526291  loss  1.0459575212052932  Accuracy  0.3333333333333333\n",
      "New Less loss has been found at:  569220  loss  1.0451822199802434  Accuracy  0.3333333333333333\n",
      "New Less loss has been found at:  702429  loss  1.0350086520200157  Accuracy  0.3333333333333333\n"
     ]
    }
   ],
   "source": [
    "X = np.array([\n",
    "    [1, 2, 3],\n",
    "    [3, 4, 5],\n",
    "    [6, 8, 1]\n",
    "])\n",
    "\n",
    "# True labels (3 classes, one-hot)\n",
    "# Let's say sample 1 → class 0, sample 2 → class 1, sample 3 → class 2\n",
    "y = np.array([\n",
    "    [1, 0, 0],  # sample 1 → class 0\n",
    "    [0, 1, 0],  # sample 2 → class 1\n",
    "    [0, 0, 1]   # sample 3 → class 2\n",
    "])\n",
    "\n",
    "layer1 = Dense(3,3)\n",
    "layer2 = Dense(3,3)\n",
    "\n",
    "largest_loss = 99999\n",
    "best_weights1 = layer1.weights.copy()\n",
    "best_bias1 = layer1.bias.copy()\n",
    "best_weights2 = layer2.weights.copy()\n",
    "best_bias2 = layer2.bias.copy()\n",
    "\n",
    "reluAct = ReluAct()\n",
    "actSoft = Softmax()\n",
    "lossFun = Cross_entropyLoss()\n",
    "\n",
    "for i in range(1000000):\n",
    "    layer1.weights = 0.05 * np.random.randn(3,3)\n",
    "    layer1.bias = np.zeros((1,3))\n",
    "    layer2.weights = 0.05 *np.random.randn(3,3)\n",
    "    layer2.bias = np.zeros((1,3))\n",
    "\n",
    "    output_layer1 = layer1.forward(X)\n",
    "    output_relu = reluAct.forward(output_layer1)\n",
    "    output_layer2 = layer2.forward(output_relu)\n",
    "    actSoft_output = actSoft.forward(output_layer2)\n",
    "    lossFun_output = lossFun.forward(actSoft_output,y)\n",
    "    \n",
    "    # actSoft_output.output has shape (batch_size, n_classes)\n",
    "    pred_classes = np.argmax(actSoft_output, axis=1)\n",
    "    true_classes = np.argmax(y, axis=1)\n",
    "\n",
    "    acc = np.mean(pred_classes == true_classes)\n",
    "\n",
    "    \n",
    "    if lossFun_output < largest_loss:\n",
    "        print(\"New Less loss has been found at: \",i, \" loss \",lossFun_output, \" Accuracy \", acc)\n",
    "        largest_loss=lossFun_output\n",
    "        best_weights1 = layer1.weights.copy()\n",
    "        best_bias1 = layer1.bias.copy()\n",
    "        best_weights2 = layer2.weights.copy()\n",
    "        best_bias2 = layer2.bias.copy()\n",
    "\n",
    "    \n",
    "\n"
   ]
  },
  {
   "cell_type": "code",
   "execution_count": 434,
   "id": "6b0d985e",
   "metadata": {},
   "outputs": [
    {
     "name": "stdout",
     "output_type": "stream",
     "text": [
      "[[0.3353103  0.32767604 0.33701365]\n",
      " [0.33376237 0.32276329 0.34347434]\n",
      " [0.31968218 0.31635132 0.3639665 ]]\n"
     ]
    }
   ],
   "source": [
    "print(actSoft_output)"
   ]
  },
  {
   "cell_type": "code",
   "execution_count": 435,
   "id": "9f42aa33",
   "metadata": {},
   "outputs": [
    {
     "data": {
      "text/plain": [
       "array([[1, 0, 0],\n",
       "       [0, 1, 0],\n",
       "       [0, 0, 1]])"
      ]
     },
     "execution_count": 435,
     "metadata": {},
     "output_type": "execute_result"
    }
   ],
   "source": [
    "y"
   ]
  },
  {
   "cell_type": "code",
   "execution_count": null,
   "id": "6652b4a2",
   "metadata": {},
   "outputs": [],
   "source": []
  }
 ],
 "metadata": {
  "kernelspec": {
   "display_name": ".venv",
   "language": "python",
   "name": "python3"
  },
  "language_info": {
   "codemirror_mode": {
    "name": "ipython",
    "version": 3
   },
   "file_extension": ".py",
   "mimetype": "text/x-python",
   "name": "python",
   "nbconvert_exporter": "python",
   "pygments_lexer": "ipython3",
   "version": "3.13.6"
  }
 },
 "nbformat": 4,
 "nbformat_minor": 5
}
